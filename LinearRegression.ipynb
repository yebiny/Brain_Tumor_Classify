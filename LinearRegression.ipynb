{
  "nbformat": 4,
  "nbformat_minor": 0,
  "metadata": {
    "colab": {
      "name": "LinearRegression.ipynb",
      "provenance": [],
      "collapsed_sections": [],
      "authorship_tag": "ABX9TyPBQnJL3CTnFxoCYZVtCVxi",
      "include_colab_link": true
    },
    "kernelspec": {
      "name": "python3",
      "display_name": "Python 3"
    },
    "language_info": {
      "name": "python"
    }
  },
  "cells": [
    {
      "cell_type": "markdown",
      "metadata": {
        "id": "view-in-github",
        "colab_type": "text"
      },
      "source": [
        "<a href=\"https://colab.research.google.com/github/yebiny/Brain_Tumor_Classify/blob/main/LinearRegression.ipynb\" target=\"_parent\"><img src=\"https://colab.research.google.com/assets/colab-badge.svg\" alt=\"Open In Colab\"/></a>"
      ]
    },
    {
      "cell_type": "markdown",
      "metadata": {
        "id": "ge-fIn_z0ya8"
      },
      "source": [
        "# Linear Regression\n",
        "---"
      ]
    },
    {
      "cell_type": "code",
      "metadata": {
        "id": "Okp9mQZPQDEb"
      },
      "source": [
        "import numpy as np\n",
        "import matplotlib.pyplot as plt\n",
        "import tensorflow as tf\n",
        "from tensorflow.keras.models import Sequential\n",
        "from tensorflow.keras.layers import Dense\n",
        "from tensorflow.keras import optimizers"
      ],
      "execution_count": 1,
      "outputs": []
    },
    {
      "cell_type": "markdown",
      "metadata": {
        "id": "eqNDX4kBSGWq"
      },
      "source": [
        "## 1. 개념정리\n",
        "---\n",
        "\n",
        "### <center>$y = Wx+b$</center>\n"
      ]
    },
    {
      "cell_type": "markdown",
      "metadata": {
        "id": "GiEFDvYc3zY-"
      },
      "source": [
        "### 구현\n"
      ]
    },
    {
      "cell_type": "code",
      "metadata": {
        "id": "sJQVWC4K309D"
      },
      "source": [
        "def hypothesis(x, W=1, b=0):\n",
        "  return np.dot(W,x)+b"
      ],
      "execution_count": 3,
      "outputs": []
    },
    {
      "cell_type": "markdown",
      "metadata": {
        "id": "31x3U7SB2ziD"
      },
      "source": [
        "### 데이터\n",
        "\n",
        "|공부시간|종합점수|\n",
        "|------|---|\n",
        "|1|1.1|\n",
        "|2|1.2|\n",
        "|3|2.2|\n",
        "|4|3.1|\n",
        "|5|3.7|"
      ]
    },
    {
      "cell_type": "code",
      "metadata": {
        "id": "IAi3_LvS1BYj"
      },
      "source": [
        "x = [1,2,3,4,5]\n",
        "y = [1.1,1.2,2.3,3.1,3.7]"
      ],
      "execution_count": 2,
      "outputs": []
    },
    {
      "cell_type": "markdown",
      "metadata": {
        "id": "umk0_qavR02D"
      },
      "source": [
        "### 시각화"
      ]
    },
    {
      "cell_type": "code",
      "metadata": {
        "colab": {
          "base_uri": "https://localhost:8080/",
          "height": 265
        },
        "id": "0l7xoCQu34Xs",
        "outputId": "0f8a908f-749e-4716-9cb6-32dfc89adafd"
      },
      "source": [
        "y_pred = hypothesis(x)\n",
        "plt.plot(x, y , marker='o', linestyle='')\n",
        "plt.plot(x, y_pred)\n",
        "plt.show()"
      ],
      "execution_count": 4,
      "outputs": [
        {
          "output_type": "display_data",
          "data": {
            "image/png": "[encoded data removed]",
            "text/plain": [
              "<Figure size 432x288 with 1 Axes>"
            ]
          },
          "metadata": {
            "needs_background": "light"
          }
        }
      ]
    },
    {
      "cell_type": "markdown",
      "metadata": {
        "id": "erPNtIsT00ns"
      },
      "source": [
        "## 2. Mean Squred Error\n",
        "---\n",
        "\n",
        "</br>\n",
        "\n",
        "### <center>$\\sum_{i=1}^n[y^{(i)}-\\hat{y}^{(i)}]^2$</center>\n"
      ]
    },
    {
      "cell_type": "markdown",
      "metadata": {
        "id": "sr4Ipnzp32yj"
      },
      "source": [
        "### 구현"
      ]
    },
    {
      "cell_type": "code",
      "metadata": {
        "id": "UNjam_3p78U8"
      },
      "source": [
        "def mse(y, y_pred):\n",
        "  error=0\n",
        "  for i in range(len(y)):\n",
        "    error += (y[i]-y_pred[i])**2\n",
        "  return error\n",
        "\n",
        "def mse(y, y_pred):\n",
        "  return np.sum([(yi-yi_pred)**2 for yi, yi_pred in zip(y, y_pred)])"
      ],
      "execution_count": 6,
      "outputs": []
    },
    {
      "cell_type": "markdown",
      "metadata": {
        "id": "v6VSVcwR4KoL"
      },
      "source": [
        "### Error 계산"
      ]
    },
    {
      "cell_type": "code",
      "metadata": {
        "colab": {
          "base_uri": "https://localhost:8080/"
        },
        "id": "JMbisZFe4MbT",
        "outputId": "80b5003e-2b24-4baa-8172-d3daad36f385"
      },
      "source": [
        "error = mse(y, y_pred)\n",
        "print(error)"
      ],
      "execution_count": 7,
      "outputs": [
        {
          "output_type": "stream",
          "name": "stdout",
          "text": [
            "3.6399999999999997\n"
          ]
        }
      ]
    },
    {
      "cell_type": "markdown",
      "metadata": {
        "id": "MkfmKu2M9tDT"
      },
      "source": [
        "### W 값에 따른 Error의 변화"
      ]
    },
    {
      "cell_type": "code",
      "metadata": {
        "colab": {
          "base_uri": "https://localhost:8080/",
          "height": 279
        },
        "id": "0Vt71w435LKz",
        "outputId": "d1fbc0c3-a669-4e4c-b406-48646eaa7761"
      },
      "source": [
        "W = np.arange(0.1, 1.5, 0.1)\n",
        "\n",
        "for w in W:\n",
        "  y_pred = hypothesis(x, W=w)\n",
        "  error = mse(y, y_pred)\n",
        "  plt.plot(w, error, marker='o', color='b')\n",
        "\n",
        "plt.xlabel(\"W\")\n",
        "plt.ylabel(\"Error\")\n",
        "plt.show()"
      ],
      "execution_count": 8,
      "outputs": [
        {
          "output_type": "display_data",
          "data": {
            "image/png": "[encoded data removed]",
            "text/plain": [
              "<Figure size 432x288 with 1 Axes>"
            ]
          },
          "metadata": {
            "needs_background": "light"
          }
        }
      ]
    },
    {
      "cell_type": "markdown",
      "metadata": {
        "id": "6hQg2-P342I7"
      },
      "source": [
        "## 3. Gradient Desent\n",
        "---\n",
        "</br>\n",
        "\n",
        "## <center>$w* =  w-\\alpha\\frac{\\theta }{\\theta w}Cost(w) $</center>\n",
        "\n",
        "\n",
        "<center> 기울기가 음수일 때: $\\frac{\\theta }{\\theta w}Cost(w) < 0 \\rightarrow w* = w+\\alpha*(기울기)$</center>\n",
        "<center>기울기가 음수이면 $w$는 지금보다 큰 값으로 업데이트</center>\n",
        "\n",
        "</br>\n",
        "\n",
        "<center> 기울기가 양수일 때: $\\frac{\\theta }{\\theta w}Cost(w) > 0 \\rightarrow w* = w-\\alpha*(기울기)$</center>\n",
        "<center>기울기가 양수이면 $w$는 지금보다 작은 값으로 업데이트</center>\n"
      ]
    },
    {
      "cell_type": "markdown",
      "metadata": {
        "id": "QwPBoC5ARgxz"
      },
      "source": [
        "### 구현"
      ]
    },
    {
      "cell_type": "code",
      "metadata": {
        "id": "cD7RIUsR962D"
      },
      "source": [
        "def gradient(xi, yi, w):\n",
        "  return 2*xi**2*w-2*xi*yi  \n",
        "\n",
        "def gradient_desent(xi, yi, w, alpha=0.01):\n",
        "  return w-(alpha*gradient(xi, yi, w))"
      ],
      "execution_count": 18,
      "outputs": []
    },
    {
      "cell_type": "markdown",
      "metadata": {
        "id": "U8X8G3JQRmVD"
      },
      "source": [
        "### 학습"
      ]
    },
    {
      "cell_type": "code",
      "metadata": {
        "colab": {
          "base_uri": "https://localhost:8080/"
        },
        "id": "E3j81ZxfBPiz",
        "outputId": "7341b994-3cbc-45f4-8094-47b6188cec21"
      },
      "source": [
        "w=1\n",
        "for xi, yi in zip(x, y):\n",
        "  w = gradient_desent(xi, yi, w)\n",
        "  print(w)"
      ],
      "execution_count": 19,
      "outputs": [
        {
          "output_type": "stream",
          "name": "stdout",
          "text": [
            "1.002\n",
            "0.96984\n",
            "0.9332688\n",
            "0.882622784\n",
            "0.811311392\n"
          ]
        }
      ]
    },
    {
      "cell_type": "markdown",
      "metadata": {
        "id": "pF7yqCsrcqI0"
      },
      "source": [
        "### $\\alpha$ 값에 따른 W 변화"
      ]
    },
    {
      "cell_type": "code",
      "metadata": {
        "colab": {
          "base_uri": "https://localhost:8080/"
        },
        "id": "fdn15PclcqI3",
        "outputId": "07904bec-6a46-40af-fdd2-b8b975773967"
      },
      "source": [
        "w=1\n",
        "for xi, yi in zip(x, y):\n",
        "  w = gradient_desent(xi, yi, w, alpha=0.02)\n",
        "  print(w)"
      ],
      "execution_count": 23,
      "outputs": [
        {
          "output_type": "stream",
          "name": "stdout",
          "text": [
            "1.004\n",
            "0.93936\n",
            "0.8771903999999999\n",
            "0.811788544\n",
            "0.74\n"
          ]
        }
      ]
    },
    {
      "cell_type": "markdown",
      "metadata": {
        "id": "jfYkZYmwO5Nl"
      },
      "source": [
        "## 4. 실습1: 단순 선형 회귀 분석(Simple Linear Regression Analysis)\n",
        "---\n",
        "</br>\n",
        "\n",
        "## <center>$ y = Wx + b$</center>\n"
      ]
    },
    {
      "cell_type": "markdown",
      "metadata": {
        "id": "kbuD7GBOPjhO"
      },
      "source": [
        "### **데이터**\n",
        "\n",
        "|공부시간|종합점수|\n",
        "|------|---|\n",
        "|0|0|\n",
        "|1|11|\n",
        "|2|23|\n",
        "|3|30|\n",
        "|4|44|\n",
        "|5|55|\n",
        "|6|61|\n",
        "|7|73|\n",
        "|8|84|\n",
        "|9|98|\n",
        "\n"
      ]
    },
    {
      "cell_type": "markdown",
      "metadata": {
        "id": "ojv-hk3ad4CG"
      },
      "source": [
        "* 데이터 정의"
      ]
    },
    {
      "cell_type": "code",
      "metadata": {
        "id": "daPlUy3MK75a"
      },
      "source": [
        "x = [0,1,2,3,4,5,6,7,8,9]\n",
        "y = [0,11,23,30,44,55,61,73,84,98]"
      ],
      "execution_count": 24,
      "outputs": []
    },
    {
      "cell_type": "markdown",
      "metadata": {
        "id": "pUfaI0KpdY4d"
      },
      "source": [
        "* 시각화"
      ]
    },
    {
      "cell_type": "code",
      "metadata": {
        "colab": {
          "base_uri": "https://localhost:8080/",
          "height": 265
        },
        "id": "ZbzZ-1ylLLSR",
        "outputId": "9ed78512-50b2-4c8b-8f5b-75b5c76d3684"
      },
      "source": [
        "plt.plot(x,y, linestyle='', marker='o')\n",
        "plt.show()"
      ],
      "execution_count": 25,
      "outputs": [
        {
          "output_type": "display_data",
          "data": {
            "image/png": "[encoded data removed]",
            "text/plain": [
              "<Figure size 432x288 with 1 Axes>"
            ]
          },
          "metadata": {
            "needs_background": "light"
          }
        }
      ]
    },
    {
      "cell_type": "markdown",
      "metadata": {
        "id": "thbFTkkuRec4"
      },
      "source": [
        "### **모델 생성**"
      ]
    },
    {
      "cell_type": "markdown",
      "metadata": {
        "id": "T3hvm-LkeIfU"
      },
      "source": [
        "* 케라스를 이용한 모델 구현"
      ]
    },
    {
      "cell_type": "code",
      "metadata": {
        "colab": {
          "base_uri": "https://localhost:8080/"
        },
        "id": "aUYRDZ6kLSqP",
        "outputId": "2c2b6f52-247e-4a09-9303-57204d3dba90"
      },
      "source": [
        "model = Sequential()\n",
        "model.add(Dense(1, input_dim=1, activation='linear'))\n",
        "model.summary()"
      ],
      "execution_count": 26,
      "outputs": [
        {
          "output_type": "stream",
          "name": "stdout",
          "text": [
            "Model: \"sequential\"\n",
            "_________________________________________________________________\n",
            "Layer (type)                 Output Shape              Param #   \n",
            "=================================================================\n",
            "dense (Dense)                (None, 1)                 2         \n",
            "=================================================================\n",
            "Total params: 2\n",
            "Trainable params: 2\n",
            "Non-trainable params: 0\n",
            "_________________________________________________________________\n"
          ]
        }
      ]
    },
    {
      "cell_type": "markdown",
      "metadata": {
        "id": "oWm9NLObZDMu"
      },
      "source": [
        "* 학습파라미터 확인"
      ]
    },
    {
      "cell_type": "code",
      "metadata": {
        "colab": {
          "base_uri": "https://localhost:8080/"
        },
        "id": "VSQebyh5RmlB",
        "outputId": "3b370a9b-873b-4e36-c2a3-6b69ddcaae44"
      },
      "source": [
        "print(model.get_weights())\n",
        "W = model.get_weights()[0]\n",
        "b = model.get_weights()[1]\n",
        "print(\"W:\",W, \"b:\", b)"
      ],
      "execution_count": 27,
      "outputs": [
        {
          "output_type": "stream",
          "name": "stdout",
          "text": [
            "[array([[1.286282]], dtype=float32), array([0.], dtype=float32)]\n",
            "W: [[1.286282]] b: [0.]\n"
          ]
        }
      ]
    },
    {
      "cell_type": "markdown",
      "metadata": {
        "id": "7WE7NPAeZK2Y"
      },
      "source": [
        "* 학습파라미터 시각화"
      ]
    },
    {
      "cell_type": "code",
      "metadata": {
        "colab": {
          "base_uri": "https://localhost:8080/",
          "height": 265
        },
        "id": "8Tl9l8mWRwOQ",
        "outputId": "a182cf0f-6da6-4123-9115-1d2509cc15ee"
      },
      "source": [
        "plt.plot(x,y, linestyle='', marker='o')\n",
        "plt.plot(x, model.predict(x), linestyle='--', marker='')\n",
        "plt.show()"
      ],
      "execution_count": 28,
      "outputs": [
        {
          "output_type": "display_data",
          "data": {
            "image/png": "[encoded data removed]",
            "text/plain": [
              "<Figure size 432x288 with 1 Axes>"
            ]
          },
          "metadata": {
            "needs_background": "light"
          }
        }
      ]
    },
    {
      "cell_type": "markdown",
      "metadata": {
        "id": "eVibQb3UT9b1"
      },
      "source": [
        "### **학습**"
      ]
    },
    {
      "cell_type": "markdown",
      "metadata": {
        "id": "_xXCO5TZSqsa"
      },
      "source": [
        "* 모델 컴파일"
      ]
    },
    {
      "cell_type": "code",
      "metadata": {
        "colab": {
          "base_uri": "https://localhost:8080/"
        },
        "id": "iBHMg3adRhya",
        "outputId": "61a28d1f-ee12-4010-f16c-fe1e08de3519"
      },
      "source": [
        "model.compile(optimizer = optimizers.SGD(lr=0.01),\n",
        "              loss = 'mse',\n",
        "              metrics=['mse']\n",
        "              )"
      ],
      "execution_count": 29,
      "outputs": [
        {
          "output_type": "stream",
          "name": "stderr",
          "text": [
            "/usr/local/lib/python3.7/dist-packages/keras/optimizer_v2/optimizer_v2.py:356: UserWarning: The `lr` argument is deprecated, use `learning_rate` instead.\n",
            "  \"The `lr` argument is deprecated, use `learning_rate` instead.\")\n"
          ]
        }
      ]
    },
    {
      "cell_type": "markdown",
      "metadata": {
        "id": "IVizBMD5a4Tt"
      },
      "source": [
        "* 학습 진행"
      ]
    },
    {
      "cell_type": "code",
      "metadata": {
        "colab": {
          "base_uri": "https://localhost:8080/"
        },
        "id": "gsFdfLY5Lfn3",
        "outputId": "be727210-261d-4e61-aec3-27cf93d21e04"
      },
      "source": [
        "model.fit(x, y, epochs=10)"
      ],
      "execution_count": 30,
      "outputs": [
        {
          "output_type": "stream",
          "name": "stdout",
          "text": [
            "Epoch 1/10\n",
            "1/1 [==============================] - 1s 515ms/step - loss: 2490.0242 - mse: 2490.0242\n",
            "Epoch 2/10\n",
            "1/1 [==============================] - 0s 5ms/step - loss: 432.8708 - mse: 432.8708\n",
            "Epoch 3/10\n",
            "1/1 [==============================] - 0s 5ms/step - loss: 77.4677 - mse: 77.4677\n",
            "Epoch 4/10\n",
            "1/1 [==============================] - 0s 5ms/step - loss: 16.0636 - mse: 16.0636\n",
            "Epoch 5/10\n",
            "1/1 [==============================] - 0s 5ms/step - loss: 5.4515 - mse: 5.4515\n",
            "Epoch 6/10\n",
            "1/1 [==============================] - 0s 5ms/step - loss: 3.6144 - mse: 3.6144\n",
            "Epoch 7/10\n",
            "1/1 [==============================] - 0s 8ms/step - loss: 3.2934 - mse: 3.2934\n",
            "Epoch 8/10\n",
            "1/1 [==============================] - 0s 10ms/step - loss: 3.2343 - mse: 3.2343\n",
            "Epoch 9/10\n",
            "1/1 [==============================] - 0s 6ms/step - loss: 3.2205 - mse: 3.2205\n",
            "Epoch 10/10\n",
            "1/1 [==============================] - 0s 5ms/step - loss: 3.2146 - mse: 3.2146\n"
          ]
        },
        {
          "output_type": "execute_result",
          "data": {
            "text/plain": [
              "<keras.callbacks.History at 0x7efe364cf490>"
            ]
          },
          "metadata": {},
          "execution_count": 30
        }
      ]
    },
    {
      "cell_type": "markdown",
      "metadata": {
        "id": "SRXVtPpQV_Pn"
      },
      "source": [
        "### **결과**"
      ]
    },
    {
      "cell_type": "markdown",
      "metadata": {
        "id": "-kUSqu2WaJu9"
      },
      "source": [
        "* 학습 파라미터 확인"
      ]
    },
    {
      "cell_type": "code",
      "metadata": {
        "colab": {
          "base_uri": "https://localhost:8080/"
        },
        "id": "lrzjoWBUaLpD",
        "outputId": "da64c8d7-3029-4b7f-dfb8-c8f9555cbee0"
      },
      "source": [
        "print(model.get_weights())\n",
        "W = model.get_weights()[0]\n",
        "b = model.get_weights()[1]\n",
        "print(\"W:\",W, \"b:\", b)"
      ],
      "execution_count": 33,
      "outputs": [
        {
          "output_type": "stream",
          "name": "stdout",
          "text": [
            "[array([[10.405892]], dtype=float32), array([1.3866898], dtype=float32)]\n",
            "W: [[10.405892]] b: [1.3866898]\n"
          ]
        }
      ]
    },
    {
      "cell_type": "markdown",
      "metadata": {
        "id": "D78RJwroaMJx"
      },
      "source": [
        "* 시각화"
      ]
    },
    {
      "cell_type": "code",
      "metadata": {
        "colab": {
          "base_uri": "https://localhost:8080/",
          "height": 265
        },
        "id": "WYOlATsiLjaT",
        "outputId": "d918fd94-8881-4a84-d5a7-a36a1d94ce1b"
      },
      "source": [
        "plt.plot(x, y, 'b', linestyle='', marker='o')\n",
        "plt.plot(x, model.predict(x), 'r', linestyle='--', marker='')\n",
        "plt.show()"
      ],
      "execution_count": 34,
      "outputs": [
        {
          "output_type": "display_data",
          "data": {
            "image/png": "[encoded data removed]",
            "text/plain": [
              "<Figure size 432x288 with 1 Axes>"
            ]
          },
          "metadata": {
            "needs_background": "light"
          }
        }
      ]
    },
    {
      "cell_type": "markdown",
      "metadata": {
        "id": "9dXLnIXocgvC"
      },
      "source": [
        "* 결과예측"
      ]
    },
    {
      "cell_type": "code",
      "metadata": {
        "colab": {
          "base_uri": "https://localhost:8080/"
        },
        "id": "DNAinOdLOnGD",
        "outputId": "0c7cc37c-0436-49bc-ad53-07e026454838"
      },
      "source": [
        "print(model.predict([11]))"
      ],
      "execution_count": 35,
      "outputs": [
        {
          "output_type": "stream",
          "name": "stdout",
          "text": [
            "[[115.8515]]\n"
          ]
        }
      ]
    },
    {
      "cell_type": "markdown",
      "metadata": {
        "id": "nt00IWxWO7U9"
      },
      "source": [
        "## 5. 실습2: 다중선형회귀 (Multiple Linear Regression Analysis)\n",
        "---\n",
        "</br>\n",
        "\n",
        "## <center>$ y = Wx + b$</center>\n",
        "\n",
        "</br>\n",
        "\n",
        "## <center>$ y = W_1x_1+W_2x_2+W_3x_3+ ... + b$</center>"
      ]
    },
    {
      "cell_type": "markdown",
      "metadata": {
        "id": "iLkrqq2dWo_i"
      },
      "source": [
        "### **데이터**\n",
        "|공부시간|집중도|수면시간|종합성적|\n",
        "|------|---|---|---|\n",
        "|0|1|9|0|\n",
        "|1|1|8.5|11|\n",
        "|2|2|8|23|\n",
        "|3|4|8|30|\n",
        "|4|3|7|44|\n",
        "|5|5|7.5|55|\n",
        "|6|6|7|61|\n",
        "|7|6|6|73|\n",
        "|8|7|7|84|\n",
        "|9|6|6.5|98|\n",
        "\n"
      ]
    },
    {
      "cell_type": "markdown",
      "metadata": {
        "id": "LQezSwWEfI0O"
      },
      "source": [
        "* 데이터 정의"
      ]
    },
    {
      "cell_type": "code",
      "metadata": {
        "id": "gaRXJzQ6O8G6"
      },
      "source": [
        "x = [[0,1,9],\n",
        "      [1,1,8.5],\n",
        "      [2,2,8],\n",
        "      [3,4,8],\n",
        "      [4,3,7],\n",
        "      [5,5,7.5],\n",
        "      [6,6,7],\n",
        "      [7,6,6],\n",
        "      [8,7,7],\n",
        "      [9,6,6.5 ]\n",
        "     ]\n",
        "y = [0,11,23,30,44,55,61,73,84,98]"
      ],
      "execution_count": 36,
      "outputs": []
    },
    {
      "cell_type": "markdown",
      "metadata": {
        "id": "TZ45Zf3zZfS3"
      },
      "source": [
        "### **모델 생성**"
      ]
    },
    {
      "cell_type": "markdown",
      "metadata": {
        "id": "CZIXuAgbfMvL"
      },
      "source": [
        "* 케라스를 이용한 모델 생성"
      ]
    },
    {
      "cell_type": "code",
      "metadata": {
        "colab": {
          "base_uri": "https://localhost:8080/"
        },
        "id": "0NLYa1GoZfS8",
        "outputId": "7ecbe6fe-c9f9-440d-dff8-3383c4965558"
      },
      "source": [
        "model = Sequential()\n",
        "model.add(Dense(1, input_dim=3, activation='linear'))\n",
        "model.summary()"
      ],
      "execution_count": 37,
      "outputs": [
        {
          "output_type": "stream",
          "name": "stdout",
          "text": [
            "Model: \"sequential_1\"\n",
            "_________________________________________________________________\n",
            "Layer (type)                 Output Shape              Param #   \n",
            "=================================================================\n",
            "dense_1 (Dense)              (None, 1)                 4         \n",
            "=================================================================\n",
            "Total params: 4\n",
            "Trainable params: 4\n",
            "Non-trainable params: 0\n",
            "_________________________________________________________________\n"
          ]
        }
      ]
    },
    {
      "cell_type": "markdown",
      "metadata": {
        "id": "wtqZLW2cZfS9"
      },
      "source": [
        "* 학습 파라미터 확인"
      ]
    },
    {
      "cell_type": "code",
      "metadata": {
        "colab": {
          "base_uri": "https://localhost:8080/"
        },
        "id": "q4uHq2pjZfS9",
        "outputId": "cb3886a1-3310-4a3a-9d71-339843d579eb"
      },
      "source": [
        "print(model.get_weights())\n",
        "W = model.get_weights()[0]\n",
        "b = model.get_weights()[1]\n",
        "print(\"W:\",W, \"b:\", b)"
      ],
      "execution_count": 38,
      "outputs": [
        {
          "output_type": "stream",
          "name": "stdout",
          "text": [
            "[array([[-0.04971421],\n",
            "       [ 1.0157095 ],\n",
            "       [ 1.1756989 ]], dtype=float32), array([0.], dtype=float32)]\n",
            "W: [[-0.04971421]\n",
            " [ 1.0157095 ]\n",
            " [ 1.1756989 ]] b: [0.]\n"
          ]
        }
      ]
    },
    {
      "cell_type": "markdown",
      "metadata": {
        "id": "ewHWcIt7ZfS-"
      },
      "source": [
        "### **학습**"
      ]
    },
    {
      "cell_type": "markdown",
      "metadata": {
        "id": "ahSAMANCfc-Z"
      },
      "source": [
        "* 모델 컴파일"
      ]
    },
    {
      "cell_type": "code",
      "metadata": {
        "colab": {
          "base_uri": "https://localhost:8080/"
        },
        "id": "EZqkM15lZfS_",
        "outputId": "e021384a-6977-4dbd-c19c-09c5b17d6719"
      },
      "source": [
        "model.compile(optimizer = optimizers.SGD(lr=0.01),\n",
        "              loss = 'mse',\n",
        "              metrics=['mse']\n",
        "              )"
      ],
      "execution_count": 39,
      "outputs": [
        {
          "output_type": "stream",
          "name": "stderr",
          "text": [
            "/usr/local/lib/python3.7/dist-packages/keras/optimizer_v2/optimizer_v2.py:356: UserWarning: The `lr` argument is deprecated, use `learning_rate` instead.\n",
            "  \"The `lr` argument is deprecated, use `learning_rate` instead.\")\n"
          ]
        }
      ]
    },
    {
      "cell_type": "markdown",
      "metadata": {
        "id": "fVCQvRZyfc-t"
      },
      "source": [
        "* 학습 진행"
      ]
    },
    {
      "cell_type": "code",
      "metadata": {
        "id": "c70KTBf1ZfTA",
        "colab": {
          "base_uri": "https://localhost:8080/"
        },
        "outputId": "7ce34f4d-0bd5-4b53-b343-50a6e2d5074f"
      },
      "source": [
        "model.fit(x, y, epochs=10)"
      ],
      "execution_count": 41,
      "outputs": [
        {
          "output_type": "stream",
          "name": "stdout",
          "text": [
            "Epoch 1/10\n",
            "1/1 [==============================] - 0s 7ms/step - loss: 7.4144 - mse: 7.4144\n",
            "Epoch 2/10\n",
            "1/1 [==============================] - 0s 8ms/step - loss: 7.3388 - mse: 7.3388\n",
            "Epoch 3/10\n",
            "1/1 [==============================] - 0s 5ms/step - loss: 7.2642 - mse: 7.2642\n",
            "Epoch 4/10\n",
            "1/1 [==============================] - 0s 5ms/step - loss: 7.1905 - mse: 7.1905\n",
            "Epoch 5/10\n",
            "1/1 [==============================] - 0s 9ms/step - loss: 7.1177 - mse: 7.1177\n",
            "Epoch 6/10\n",
            "1/1 [==============================] - 0s 4ms/step - loss: 7.0458 - mse: 7.0458\n",
            "Epoch 7/10\n",
            "1/1 [==============================] - 0s 11ms/step - loss: 6.9747 - mse: 6.9747\n",
            "Epoch 8/10\n",
            "1/1 [==============================] - 0s 7ms/step - loss: 6.9046 - mse: 6.9046\n",
            "Epoch 9/10\n",
            "1/1 [==============================] - 0s 6ms/step - loss: 6.8353 - mse: 6.8353\n",
            "Epoch 10/10\n",
            "1/1 [==============================] - 0s 6ms/step - loss: 6.7668 - mse: 6.7668\n"
          ]
        },
        {
          "output_type": "execute_result",
          "data": {
            "text/plain": [
              "<keras.callbacks.History at 0x7efe35b657d0>"
            ]
          },
          "metadata": {},
          "execution_count": 41
        }
      ]
    },
    {
      "cell_type": "markdown",
      "metadata": {
        "id": "mAc14-qWfDDV"
      },
      "source": [
        "### **결과**"
      ]
    },
    {
      "cell_type": "markdown",
      "metadata": {
        "id": "ZmCT32fefDDW"
      },
      "source": [
        "* 학습 파라미터 확인"
      ]
    },
    {
      "cell_type": "code",
      "metadata": {
        "colab": {
          "base_uri": "https://localhost:8080/"
        },
        "id": "-b5GFbL8fDDW",
        "outputId": "81182463-cb54-4ae9-e43f-da7a9d345f9c"
      },
      "source": [
        "print(model.get_weights())\n",
        "W = model.get_weights()[0]\n",
        "b = model.get_weights()[1]\n",
        "print(\"W:\",W, \"b:\", b)"
      ],
      "execution_count": 43,
      "outputs": [
        {
          "output_type": "stream",
          "name": "stdout",
          "text": [
            "[array([[ 9.407495 ],\n",
            "       [ 1.5388564],\n",
            "       [-0.1275162]], dtype=float32), array([0.17334504], dtype=float32)]\n",
            "W: [[ 9.407495 ]\n",
            " [ 1.5388564]\n",
            " [-0.1275162]] b: [0.17334504]\n"
          ]
        }
      ]
    },
    {
      "cell_type": "markdown",
      "metadata": {
        "id": "LFSBLKgyfDDX"
      },
      "source": [
        "* 결과 예측"
      ]
    },
    {
      "cell_type": "code",
      "metadata": {
        "colab": {
          "base_uri": "https://localhost:8080/"
        },
        "id": "D0yOWDosfDDX",
        "outputId": "a1954e19-e530-4fae-c323-21341390043f"
      },
      "source": [
        "sample = [[11,4,6]]\n",
        "print(model.predict(sample))"
      ],
      "execution_count": 44,
      "outputs": [
        {
          "output_type": "stream",
          "name": "stdout",
          "text": [
            "[[109.04611]]\n"
          ]
        }
      ]
    },
    {
      "cell_type": "code",
      "metadata": {
        "id": "URcWCOyMfuWR"
      },
      "source": [
        ""
      ],
      "execution_count": null,
      "outputs": []
    }
  ]
}