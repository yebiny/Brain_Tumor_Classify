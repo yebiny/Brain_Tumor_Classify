{
  "nbformat": 4,
  "nbformat_minor": 0,
  "metadata": {
    "colab": {
      "name": "ch05_05_기초모델구현-Adaline.ipynb",
      "provenance": [],
      "collapsed_sections": [],
      "mount_file_id": "1nTEONpgtEp9o31vB58Az6R5rj7a3o72K",
      "authorship_tag": "ABX9TyOZHG+42vwGKuG7Q624WHXv",
      "include_colab_link": true
    },
    "kernelspec": {
      "name": "python3",
      "display_name": "Python 3"
    },
    "language_info": {
      "name": "python"
    }
  },
  "cells": [
    {
      "cell_type": "markdown",
      "metadata": {
        "id": "view-in-github",
        "colab_type": "text"
      },
      "source": [
        "<a href=\"https://colab.research.google.com/github/yebiny/Brain_Tumor_Classify/blob/main/05.%EB%A8%B8%EC%8B%A0%EB%9F%AC%EB%8B%9D%EA%B8%B0%EB%B0%98%EB%8D%B0%EC%9D%B4%ED%84%B0%EB%B6%84%EC%84%9D/ch05_05_%EA%B8%B0%EC%B4%88%EB%AA%A8%EB%8D%B8%EA%B5%AC%ED%98%84_Adaline.ipynb\" target=\"_parent\"><img src=\"https://colab.research.google.com/assets/colab-badge.svg\" alt=\"Open In Colab\"/></a>"
      ]
    },
    {
      "cell_type": "markdown",
      "metadata": {
        "id": "wWpXZc2fi39U"
      },
      "source": [
        "# ch05.05. 기초모델 구현 - Adaline\n",
        "---\n",
        "* 날짜:\n",
        "* 이름:\n",
        "\n",
        "## 학습내용\n",
        "    - 이진 분류 개념에 대해 이해한다.\n",
        "    - Adaline 프로세스를 이해한다. \n",
        "    - Adaline 알고리즘을 구현한다.\n",
        "    - 경사하강법에 대해 이해한다."
      ]
    },
    {
      "cell_type": "markdown",
      "metadata": {
        "id": "kByKdJPApy6P"
      },
      "source": [
        "```\n",
        "import numpy as np\n",
        "import matplotlib.pyplot as plt\n",
        "```"
      ]
    },
    {
      "cell_type": "code",
      "execution_count": null,
      "metadata": {
        "id": "rJvcz-JikHbE"
      },
      "outputs": [],
      "source": [
        ""
      ]
    },
    {
      "cell_type": "markdown",
      "source": [
        "## 클래스 작성\n",
        "---"
      ],
      "metadata": {
        "id": "uwMdGM259v98"
      }
    },
    {
      "cell_type": "code",
      "source": [
        "class AdalineGD():\n",
        "  def __init__(self, lr=0.001, random_state=1):\n",
        "    self.lr=lr\n",
        "    self.seed = np.random.RandomState(random_state)\n",
        "\n",
        "  def init_weights(self, X):\n",
        "  \n",
        "\n",
        "  def model(self, X):\n",
        "\n",
        "\n",
        "  def predict(self, X):\n",
        "\n",
        "\n",
        "  def loss(self, y, y_hat):\n",
        "\n",
        "  \n",
        "  def accuracy(self, y, y_logit):\n",
        "\n",
        "\n",
        "  def evaluate(self, X, y):\n",
        "\n",
        "\n",
        "  def fit(self, X, y, epochs=10, show_params=False):\n",
        "\n",
        "    self.init_weights(X) # 가중치 초기화\n",
        "    self.history=dict(loss=[], acc=[]) # history 초기화\n",
        "\n",
        "    for epoch in range(epochs):\n",
        "      # 최적화\n",
        "\n",
        "\n",
        "      \n",
        "      # 평가 및 결과 저장\n",
        "      loss, acc = self.evaluate(X, y)\n",
        "      self.history['loss'].append(loss)\n",
        "      self.history['acc'].append(acc)\n",
        "      print(f'[Epoch {epoch}] loss: {np.round(loss,2)}  acc: {np.round(acc,2)}')\n",
        "      if show_params: print(self.w)\n",
        "\n",
        "  # 데이터 흐름 시각화\n",
        "  def draw_dflow(self, X, y, title='', figsize=(8,4)):\n",
        "    y_hat = self.model(X)\n",
        "    y_pred = self.predict(X)\n",
        "\n",
        "    plt.figure(figsize=figsize)\n",
        "    plt.title(title)\n",
        "    plt.plot(y, label='y', marker='o')\n",
        "    plt.plot(y_hat, label='$\\hat{y}$', marker='.', linestyle='--')\n",
        "    plt.plot(y_pred, label='$\\logit$', marker='.', linestyle='--')\n",
        "    plt.legend()\n",
        "    plt.show()\n",
        "\n",
        "  # 학습 곡선 시각화\n",
        "  def draw_lcurve(self, title='', figsize=(8,4)):\n",
        "    plt.figure(figsize=figsize)\n",
        "    plt.title(title)\n",
        "    plt.plot(self.history['acc'], label='acc', marker='o')\n",
        "    plt.plot(self.history['loss'], label='loss', marker='o')\n",
        "    plt.xlabel('epoch')\n",
        "    plt.legend()\n",
        "    plt.show()"
      ],
      "metadata": {
        "id": "5mAt5khrW_Km"
      },
      "execution_count": null,
      "outputs": []
    },
    {
      "cell_type": "markdown",
      "source": [
        "## Iris 데이터로 분류 진행\n",
        "---"
      ],
      "metadata": {
        "id": "p8-pUaTb04zO"
      }
    },
    {
      "cell_type": "markdown",
      "source": [
        "### **데이터 로드**"
      ],
      "metadata": {
        "id": "yh-ww3jO9392"
      }
    },
    {
      "cell_type": "code",
      "source": [
        ""
      ],
      "metadata": {
        "id": "6aV9e8XkC4Da"
      },
      "execution_count": null,
      "outputs": []
    },
    {
      "cell_type": "markdown",
      "source": [
        "### **학습전 성능 평가**"
      ],
      "metadata": {
        "id": "3LqoB51790s0"
      }
    },
    {
      "cell_type": "code",
      "source": [
        ""
      ],
      "metadata": {
        "id": "TBW5bD_H8qqk"
      },
      "execution_count": null,
      "outputs": []
    },
    {
      "cell_type": "markdown",
      "source": [
        "### **학습**"
      ],
      "metadata": {
        "id": "s0Z1FRSQ-CVf"
      }
    },
    {
      "cell_type": "code",
      "source": [
        ""
      ],
      "metadata": {
        "id": "IUKelQQChXTK"
      },
      "execution_count": null,
      "outputs": []
    },
    {
      "cell_type": "markdown",
      "source": [
        "### **학습 후 성능평가**"
      ],
      "metadata": {
        "id": "rcyTrA6o-ERb"
      }
    },
    {
      "cell_type": "code",
      "source": [
        ""
      ],
      "metadata": {
        "id": "85fUj6NU7gXX"
      },
      "execution_count": null,
      "outputs": []
    },
    {
      "cell_type": "markdown",
      "source": [
        "### **테스트셋 성능평가**"
      ],
      "metadata": {
        "id": "rJtmb1t_-GIF"
      }
    },
    {
      "cell_type": "code",
      "source": [
        ""
      ],
      "metadata": {
        "id": "XNGh7FUei1Qe"
      },
      "execution_count": null,
      "outputs": []
    },
    {
      "cell_type": "markdown",
      "source": [
        "### **학습곡선**"
      ],
      "metadata": {
        "id": "w1bVEuSPkhwb"
      }
    },
    {
      "cell_type": "code",
      "source": [
        ""
      ],
      "metadata": {
        "id": "qMgKxxS2kdQz"
      },
      "execution_count": null,
      "outputs": []
    },
    {
      "cell_type": "markdown",
      "source": [
        "### **하이퍼파라미터에 따른 성능평가**"
      ],
      "metadata": {
        "id": "GOyfcMrAN74G"
      }
    },
    {
      "cell_type": "code",
      "source": [
        ""
      ],
      "metadata": {
        "id": "XK0Zqjq9hG1G"
      },
      "execution_count": null,
      "outputs": []
    }
  ]
}